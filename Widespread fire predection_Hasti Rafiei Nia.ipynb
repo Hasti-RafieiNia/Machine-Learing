{
 "cells": [
  {
   "attachments": {},
   "cell_type": "markdown",
   "metadata": {},
   "source": [
    "**Libraries Importation**"
   ]
  },
  {
   "cell_type": "code",
   "execution_count": 158,
   "metadata": {},
   "outputs": [],
   "source": [
    "import numpy as np\n",
    "import pandas as pd\n",
    "import matplotlib as mpl\n",
    "import matplotlib.pyplot as plt\n",
    "\n",
    "mpl.rc('font', family ='Times New Roman')"
   ]
  },
  {
   "attachments": {},
   "cell_type": "markdown",
   "metadata": {},
   "source": [
    "**Data Importation**"
   ]
  },
  {
   "cell_type": "code",
   "execution_count": 159,
   "metadata": {},
   "outputs": [
    {
     "data": {
      "text/html": [
       "<div>\n",
       "<style scoped>\n",
       "    .dataframe tbody tr th:only-of-type {\n",
       "        vertical-align: middle;\n",
       "    }\n",
       "\n",
       "    .dataframe tbody tr th {\n",
       "        vertical-align: top;\n",
       "    }\n",
       "\n",
       "    .dataframe thead th {\n",
       "        text-align: right;\n",
       "    }\n",
       "</style>\n",
       "<table border=\"1\" class=\"dataframe\">\n",
       "  <thead>\n",
       "    <tr style=\"text-align: right;\">\n",
       "      <th></th>\n",
       "      <th>FID</th>\n",
       "      <th>OBJECTID</th>\n",
       "      <th>pointid</th>\n",
       "      <th>grid_code</th>\n",
       "      <th>b1_Landsat</th>\n",
       "      <th>b2_Landsat</th>\n",
       "      <th>b3_Landsat</th>\n",
       "      <th>b4_Landsat</th>\n",
       "      <th>b5_Landsat</th>\n",
       "      <th>b6_Landsat</th>\n",
       "      <th>b7_Landsat</th>\n",
       "      <th>post_fire_</th>\n",
       "    </tr>\n",
       "  </thead>\n",
       "  <tbody>\n",
       "    <tr>\n",
       "      <th>0</th>\n",
       "      <td>0</td>\n",
       "      <td>1</td>\n",
       "      <td>334</td>\n",
       "      <td>2/2169099</td>\n",
       "      <td>9737</td>\n",
       "      <td>11857</td>\n",
       "      <td>13187</td>\n",
       "      <td>8550</td>\n",
       "      <td>8830</td>\n",
       "      <td>8259</td>\n",
       "      <td>8163</td>\n",
       "      <td>2/2169099</td>\n",
       "    </tr>\n",
       "    <tr>\n",
       "      <th>1</th>\n",
       "      <td>1</td>\n",
       "      <td>2</td>\n",
       "      <td>335</td>\n",
       "      <td>3/2005000</td>\n",
       "      <td>9205</td>\n",
       "      <td>10920</td>\n",
       "      <td>12907</td>\n",
       "      <td>8453</td>\n",
       "      <td>8774</td>\n",
       "      <td>8112</td>\n",
       "      <td>7919</td>\n",
       "      <td>3/2005000</td>\n",
       "    </tr>\n",
       "    <tr>\n",
       "      <th>2</th>\n",
       "      <td>2</td>\n",
       "      <td>3</td>\n",
       "      <td>336</td>\n",
       "      <td>2/7512801</td>\n",
       "      <td>9043</td>\n",
       "      <td>10756</td>\n",
       "      <td>12905</td>\n",
       "      <td>8351</td>\n",
       "      <td>8704</td>\n",
       "      <td>8046</td>\n",
       "      <td>7849</td>\n",
       "      <td>2/7512801</td>\n",
       "    </tr>\n",
       "    <tr>\n",
       "      <th>3</th>\n",
       "      <td>3</td>\n",
       "      <td>4</td>\n",
       "      <td>337</td>\n",
       "      <td>1/6590900</td>\n",
       "      <td>9432</td>\n",
       "      <td>11167</td>\n",
       "      <td>12507</td>\n",
       "      <td>8565</td>\n",
       "      <td>8838</td>\n",
       "      <td>8281</td>\n",
       "      <td>8153</td>\n",
       "      <td>1/6590900</td>\n",
       "    </tr>\n",
       "    <tr>\n",
       "      <th>4</th>\n",
       "      <td>4</td>\n",
       "      <td>5</td>\n",
       "      <td>338</td>\n",
       "      <td>2/4833300</td>\n",
       "      <td>8980</td>\n",
       "      <td>10595</td>\n",
       "      <td>12175</td>\n",
       "      <td>8266</td>\n",
       "      <td>8519</td>\n",
       "      <td>7965</td>\n",
       "      <td>7813</td>\n",
       "      <td>2/4833300</td>\n",
       "    </tr>\n",
       "    <tr>\n",
       "      <th>...</th>\n",
       "      <td>...</td>\n",
       "      <td>...</td>\n",
       "      <td>...</td>\n",
       "      <td>...</td>\n",
       "      <td>...</td>\n",
       "      <td>...</td>\n",
       "      <td>...</td>\n",
       "      <td>...</td>\n",
       "      <td>...</td>\n",
       "      <td>...</td>\n",
       "      <td>...</td>\n",
       "      <td>...</td>\n",
       "    </tr>\n",
       "    <tr>\n",
       "      <th>12354</th>\n",
       "      <td>12354</td>\n",
       "      <td>12355</td>\n",
       "      <td>329</td>\n",
       "      <td>1/1861100</td>\n",
       "      <td>9850</td>\n",
       "      <td>12082</td>\n",
       "      <td>13368</td>\n",
       "      <td>8537</td>\n",
       "      <td>8784</td>\n",
       "      <td>8165</td>\n",
       "      <td>8094</td>\n",
       "      <td>1/1861100</td>\n",
       "    </tr>\n",
       "    <tr>\n",
       "      <th>12355</th>\n",
       "      <td>12355</td>\n",
       "      <td>12356</td>\n",
       "      <td>330</td>\n",
       "      <td>1/3990200</td>\n",
       "      <td>8958</td>\n",
       "      <td>10796</td>\n",
       "      <td>13376</td>\n",
       "      <td>8412</td>\n",
       "      <td>8733</td>\n",
       "      <td>8088</td>\n",
       "      <td>8023</td>\n",
       "      <td>1/3990200</td>\n",
       "    </tr>\n",
       "    <tr>\n",
       "      <th>12356</th>\n",
       "      <td>12356</td>\n",
       "      <td>12357</td>\n",
       "      <td>331</td>\n",
       "      <td>1/5527300</td>\n",
       "      <td>10093</td>\n",
       "      <td>12198</td>\n",
       "      <td>12854</td>\n",
       "      <td>8717</td>\n",
       "      <td>8808</td>\n",
       "      <td>8286</td>\n",
       "      <td>8211</td>\n",
       "      <td>1/5527300</td>\n",
       "    </tr>\n",
       "    <tr>\n",
       "      <th>12357</th>\n",
       "      <td>12357</td>\n",
       "      <td>12358</td>\n",
       "      <td>332</td>\n",
       "      <td>3/3263199</td>\n",
       "      <td>9153</td>\n",
       "      <td>11153</td>\n",
       "      <td>13712</td>\n",
       "      <td>8442</td>\n",
       "      <td>8787</td>\n",
       "      <td>8004</td>\n",
       "      <td>7881</td>\n",
       "      <td>3/3263199</td>\n",
       "    </tr>\n",
       "    <tr>\n",
       "      <th>12358</th>\n",
       "      <td>12358</td>\n",
       "      <td>12359</td>\n",
       "      <td>333</td>\n",
       "      <td>1/2116100</td>\n",
       "      <td>11208</td>\n",
       "      <td>14159</td>\n",
       "      <td>14235</td>\n",
       "      <td>9023</td>\n",
       "      <td>9113</td>\n",
       "      <td>8420</td>\n",
       "      <td>8319</td>\n",
       "      <td>1/2116100</td>\n",
       "    </tr>\n",
       "  </tbody>\n",
       "</table>\n",
       "<p>12359 rows × 12 columns</p>\n",
       "</div>"
      ],
      "text/plain": [
       "         FID  OBJECTID  pointid  grid_code  b1_Landsat  b2_Landsat  \\\n",
       "0          0         1      334  2/2169099        9737       11857   \n",
       "1          1         2      335  3/2005000        9205       10920   \n",
       "2          2         3      336  2/7512801        9043       10756   \n",
       "3          3         4      337  1/6590900        9432       11167   \n",
       "4          4         5      338  2/4833300        8980       10595   \n",
       "...      ...       ...      ...        ...         ...         ...   \n",
       "12354  12354     12355      329  1/1861100        9850       12082   \n",
       "12355  12355     12356      330  1/3990200        8958       10796   \n",
       "12356  12356     12357      331  1/5527300       10093       12198   \n",
       "12357  12357     12358      332  3/3263199        9153       11153   \n",
       "12358  12358     12359      333  1/2116100       11208       14159   \n",
       "\n",
       "       b3_Landsat  b4_Landsat  b5_Landsat  b6_Landsat  b7_Landsat post_fire_  \n",
       "0           13187        8550        8830        8259        8163  2/2169099  \n",
       "1           12907        8453        8774        8112        7919  3/2005000  \n",
       "2           12905        8351        8704        8046        7849  2/7512801  \n",
       "3           12507        8565        8838        8281        8153  1/6590900  \n",
       "4           12175        8266        8519        7965        7813  2/4833300  \n",
       "...           ...         ...         ...         ...         ...        ...  \n",
       "12354       13368        8537        8784        8165        8094  1/1861100  \n",
       "12355       13376        8412        8733        8088        8023  1/3990200  \n",
       "12356       12854        8717        8808        8286        8211  1/5527300  \n",
       "12357       13712        8442        8787        8004        7881  3/3263199  \n",
       "12358       14235        9023        9113        8420        8319  1/2116100  \n",
       "\n",
       "[12359 rows x 12 columns]"
      ]
     },
     "execution_count": 159,
     "metadata": {},
     "output_type": "execute_result"
    }
   ],
   "source": [
    "data = pd.read_csv(\"C:/Users/user/Desktop/Final_Data/Export_Output.txt\", delimiter=',')\n",
    "data"
   ]
  },
  {
   "attachments": {},
   "cell_type": "markdown",
   "metadata": {},
   "source": [
    "**Fixing data type in labele column.**"
   ]
  },
  {
   "cell_type": "code",
   "execution_count": 160,
   "metadata": {},
   "outputs": [
    {
     "name": "stderr",
     "output_type": "stream",
     "text": [
      "C:\\Users\\user\\AppData\\Local\\Temp\\ipykernel_8932\\3064742925.py:2: SettingWithCopyWarning: \n",
      "A value is trying to be set on a copy of a slice from a DataFrame\n",
      "\n",
      "See the caveats in the documentation: https://pandas.pydata.org/pandas-docs/stable/user_guide/indexing.html#returning-a-view-versus-a-copy\n",
      "  data['post_fire_'][i] = data['post_fire_'][i].replace('/','.')\n"
     ]
    },
    {
     "data": {
      "text/html": [
       "<div>\n",
       "<style scoped>\n",
       "    .dataframe tbody tr th:only-of-type {\n",
       "        vertical-align: middle;\n",
       "    }\n",
       "\n",
       "    .dataframe tbody tr th {\n",
       "        vertical-align: top;\n",
       "    }\n",
       "\n",
       "    .dataframe thead th {\n",
       "        text-align: right;\n",
       "    }\n",
       "</style>\n",
       "<table border=\"1\" class=\"dataframe\">\n",
       "  <thead>\n",
       "    <tr style=\"text-align: right;\">\n",
       "      <th></th>\n",
       "      <th>FID</th>\n",
       "      <th>OBJECTID</th>\n",
       "      <th>pointid</th>\n",
       "      <th>grid_code</th>\n",
       "      <th>b1_Landsat</th>\n",
       "      <th>b2_Landsat</th>\n",
       "      <th>b3_Landsat</th>\n",
       "      <th>b4_Landsat</th>\n",
       "      <th>b5_Landsat</th>\n",
       "      <th>b6_Landsat</th>\n",
       "      <th>b7_Landsat</th>\n",
       "      <th>post_fire_</th>\n",
       "    </tr>\n",
       "  </thead>\n",
       "  <tbody>\n",
       "    <tr>\n",
       "      <th>0</th>\n",
       "      <td>0</td>\n",
       "      <td>1</td>\n",
       "      <td>334</td>\n",
       "      <td>2/2169099</td>\n",
       "      <td>9737</td>\n",
       "      <td>11857</td>\n",
       "      <td>13187</td>\n",
       "      <td>8550</td>\n",
       "      <td>8830</td>\n",
       "      <td>8259</td>\n",
       "      <td>8163</td>\n",
       "      <td>2.2169099</td>\n",
       "    </tr>\n",
       "    <tr>\n",
       "      <th>1</th>\n",
       "      <td>1</td>\n",
       "      <td>2</td>\n",
       "      <td>335</td>\n",
       "      <td>3/2005000</td>\n",
       "      <td>9205</td>\n",
       "      <td>10920</td>\n",
       "      <td>12907</td>\n",
       "      <td>8453</td>\n",
       "      <td>8774</td>\n",
       "      <td>8112</td>\n",
       "      <td>7919</td>\n",
       "      <td>3.2005000</td>\n",
       "    </tr>\n",
       "    <tr>\n",
       "      <th>2</th>\n",
       "      <td>2</td>\n",
       "      <td>3</td>\n",
       "      <td>336</td>\n",
       "      <td>2/7512801</td>\n",
       "      <td>9043</td>\n",
       "      <td>10756</td>\n",
       "      <td>12905</td>\n",
       "      <td>8351</td>\n",
       "      <td>8704</td>\n",
       "      <td>8046</td>\n",
       "      <td>7849</td>\n",
       "      <td>2.7512801</td>\n",
       "    </tr>\n",
       "    <tr>\n",
       "      <th>3</th>\n",
       "      <td>3</td>\n",
       "      <td>4</td>\n",
       "      <td>337</td>\n",
       "      <td>1/6590900</td>\n",
       "      <td>9432</td>\n",
       "      <td>11167</td>\n",
       "      <td>12507</td>\n",
       "      <td>8565</td>\n",
       "      <td>8838</td>\n",
       "      <td>8281</td>\n",
       "      <td>8153</td>\n",
       "      <td>1.6590900</td>\n",
       "    </tr>\n",
       "    <tr>\n",
       "      <th>4</th>\n",
       "      <td>4</td>\n",
       "      <td>5</td>\n",
       "      <td>338</td>\n",
       "      <td>2/4833300</td>\n",
       "      <td>8980</td>\n",
       "      <td>10595</td>\n",
       "      <td>12175</td>\n",
       "      <td>8266</td>\n",
       "      <td>8519</td>\n",
       "      <td>7965</td>\n",
       "      <td>7813</td>\n",
       "      <td>2.4833300</td>\n",
       "    </tr>\n",
       "    <tr>\n",
       "      <th>...</th>\n",
       "      <td>...</td>\n",
       "      <td>...</td>\n",
       "      <td>...</td>\n",
       "      <td>...</td>\n",
       "      <td>...</td>\n",
       "      <td>...</td>\n",
       "      <td>...</td>\n",
       "      <td>...</td>\n",
       "      <td>...</td>\n",
       "      <td>...</td>\n",
       "      <td>...</td>\n",
       "      <td>...</td>\n",
       "    </tr>\n",
       "    <tr>\n",
       "      <th>12354</th>\n",
       "      <td>12354</td>\n",
       "      <td>12355</td>\n",
       "      <td>329</td>\n",
       "      <td>1/1861100</td>\n",
       "      <td>9850</td>\n",
       "      <td>12082</td>\n",
       "      <td>13368</td>\n",
       "      <td>8537</td>\n",
       "      <td>8784</td>\n",
       "      <td>8165</td>\n",
       "      <td>8094</td>\n",
       "      <td>1.1861100</td>\n",
       "    </tr>\n",
       "    <tr>\n",
       "      <th>12355</th>\n",
       "      <td>12355</td>\n",
       "      <td>12356</td>\n",
       "      <td>330</td>\n",
       "      <td>1/3990200</td>\n",
       "      <td>8958</td>\n",
       "      <td>10796</td>\n",
       "      <td>13376</td>\n",
       "      <td>8412</td>\n",
       "      <td>8733</td>\n",
       "      <td>8088</td>\n",
       "      <td>8023</td>\n",
       "      <td>1.3990200</td>\n",
       "    </tr>\n",
       "    <tr>\n",
       "      <th>12356</th>\n",
       "      <td>12356</td>\n",
       "      <td>12357</td>\n",
       "      <td>331</td>\n",
       "      <td>1/5527300</td>\n",
       "      <td>10093</td>\n",
       "      <td>12198</td>\n",
       "      <td>12854</td>\n",
       "      <td>8717</td>\n",
       "      <td>8808</td>\n",
       "      <td>8286</td>\n",
       "      <td>8211</td>\n",
       "      <td>1.5527300</td>\n",
       "    </tr>\n",
       "    <tr>\n",
       "      <th>12357</th>\n",
       "      <td>12357</td>\n",
       "      <td>12358</td>\n",
       "      <td>332</td>\n",
       "      <td>3/3263199</td>\n",
       "      <td>9153</td>\n",
       "      <td>11153</td>\n",
       "      <td>13712</td>\n",
       "      <td>8442</td>\n",
       "      <td>8787</td>\n",
       "      <td>8004</td>\n",
       "      <td>7881</td>\n",
       "      <td>3.3263199</td>\n",
       "    </tr>\n",
       "    <tr>\n",
       "      <th>12358</th>\n",
       "      <td>12358</td>\n",
       "      <td>12359</td>\n",
       "      <td>333</td>\n",
       "      <td>1/2116100</td>\n",
       "      <td>11208</td>\n",
       "      <td>14159</td>\n",
       "      <td>14235</td>\n",
       "      <td>9023</td>\n",
       "      <td>9113</td>\n",
       "      <td>8420</td>\n",
       "      <td>8319</td>\n",
       "      <td>1.2116100</td>\n",
       "    </tr>\n",
       "  </tbody>\n",
       "</table>\n",
       "<p>12359 rows × 12 columns</p>\n",
       "</div>"
      ],
      "text/plain": [
       "         FID  OBJECTID  pointid  grid_code  b1_Landsat  b2_Landsat  \\\n",
       "0          0         1      334  2/2169099        9737       11857   \n",
       "1          1         2      335  3/2005000        9205       10920   \n",
       "2          2         3      336  2/7512801        9043       10756   \n",
       "3          3         4      337  1/6590900        9432       11167   \n",
       "4          4         5      338  2/4833300        8980       10595   \n",
       "...      ...       ...      ...        ...         ...         ...   \n",
       "12354  12354     12355      329  1/1861100        9850       12082   \n",
       "12355  12355     12356      330  1/3990200        8958       10796   \n",
       "12356  12356     12357      331  1/5527300       10093       12198   \n",
       "12357  12357     12358      332  3/3263199        9153       11153   \n",
       "12358  12358     12359      333  1/2116100       11208       14159   \n",
       "\n",
       "       b3_Landsat  b4_Landsat  b5_Landsat  b6_Landsat  b7_Landsat post_fire_  \n",
       "0           13187        8550        8830        8259        8163  2.2169099  \n",
       "1           12907        8453        8774        8112        7919  3.2005000  \n",
       "2           12905        8351        8704        8046        7849  2.7512801  \n",
       "3           12507        8565        8838        8281        8153  1.6590900  \n",
       "4           12175        8266        8519        7965        7813  2.4833300  \n",
       "...           ...         ...         ...         ...         ...        ...  \n",
       "12354       13368        8537        8784        8165        8094  1.1861100  \n",
       "12355       13376        8412        8733        8088        8023  1.3990200  \n",
       "12356       12854        8717        8808        8286        8211  1.5527300  \n",
       "12357       13712        8442        8787        8004        7881  3.3263199  \n",
       "12358       14235        9023        9113        8420        8319  1.2116100  \n",
       "\n",
       "[12359 rows x 12 columns]"
      ]
     },
     "execution_count": 160,
     "metadata": {},
     "output_type": "execute_result"
    }
   ],
   "source": [
    "for i in range(12359):\n",
    "    data['post_fire_'][i] = data['post_fire_'][i].replace('/','.')\n",
    "     \n",
    "data  "
   ]
  },
  {
   "attachments": {},
   "cell_type": "markdown",
   "metadata": {},
   "source": [
    "**Picking 4000 random samples.**"
   ]
  },
  {
   "cell_type": "code",
   "execution_count": 161,
   "metadata": {},
   "outputs": [
    {
     "data": {
      "text/html": [
       "<div>\n",
       "<style scoped>\n",
       "    .dataframe tbody tr th:only-of-type {\n",
       "        vertical-align: middle;\n",
       "    }\n",
       "\n",
       "    .dataframe tbody tr th {\n",
       "        vertical-align: top;\n",
       "    }\n",
       "\n",
       "    .dataframe thead th {\n",
       "        text-align: right;\n",
       "    }\n",
       "</style>\n",
       "<table border=\"1\" class=\"dataframe\">\n",
       "  <thead>\n",
       "    <tr style=\"text-align: right;\">\n",
       "      <th></th>\n",
       "      <th>FID</th>\n",
       "      <th>OBJECTID</th>\n",
       "      <th>pointid</th>\n",
       "      <th>grid_code</th>\n",
       "      <th>b1_Landsat</th>\n",
       "      <th>b2_Landsat</th>\n",
       "      <th>b3_Landsat</th>\n",
       "      <th>b4_Landsat</th>\n",
       "      <th>b5_Landsat</th>\n",
       "      <th>b6_Landsat</th>\n",
       "      <th>b7_Landsat</th>\n",
       "      <th>post_fire_</th>\n",
       "    </tr>\n",
       "  </thead>\n",
       "  <tbody>\n",
       "    <tr>\n",
       "      <th>6203</th>\n",
       "      <td>6203</td>\n",
       "      <td>6204</td>\n",
       "      <td>6537</td>\n",
       "      <td>2/1304600</td>\n",
       "      <td>9778</td>\n",
       "      <td>11813</td>\n",
       "      <td>12860</td>\n",
       "      <td>8560</td>\n",
       "      <td>8718</td>\n",
       "      <td>8195</td>\n",
       "      <td>8111</td>\n",
       "      <td>2.1304600</td>\n",
       "    </tr>\n",
       "    <tr>\n",
       "      <th>8451</th>\n",
       "      <td>8451</td>\n",
       "      <td>8452</td>\n",
       "      <td>8785</td>\n",
       "      <td>5/1101999</td>\n",
       "      <td>11758</td>\n",
       "      <td>15041</td>\n",
       "      <td>14109</td>\n",
       "      <td>9137</td>\n",
       "      <td>9208</td>\n",
       "      <td>8527</td>\n",
       "      <td>8434</td>\n",
       "      <td>5.1101999</td>\n",
       "    </tr>\n",
       "    <tr>\n",
       "      <th>1392</th>\n",
       "      <td>1392</td>\n",
       "      <td>1393</td>\n",
       "      <td>1726</td>\n",
       "      <td>1/4538900</td>\n",
       "      <td>10973</td>\n",
       "      <td>13302</td>\n",
       "      <td>14336</td>\n",
       "      <td>9395</td>\n",
       "      <td>9347</td>\n",
       "      <td>8481</td>\n",
       "      <td>8166</td>\n",
       "      <td>1.4538900</td>\n",
       "    </tr>\n",
       "    <tr>\n",
       "      <th>1786</th>\n",
       "      <td>1786</td>\n",
       "      <td>1787</td>\n",
       "      <td>2120</td>\n",
       "      <td>2/5613000</td>\n",
       "      <td>11339</td>\n",
       "      <td>13778</td>\n",
       "      <td>13108</td>\n",
       "      <td>9268</td>\n",
       "      <td>9221</td>\n",
       "      <td>8583</td>\n",
       "      <td>8393</td>\n",
       "      <td>2.5613000</td>\n",
       "    </tr>\n",
       "    <tr>\n",
       "      <th>9194</th>\n",
       "      <td>9194</td>\n",
       "      <td>9195</td>\n",
       "      <td>9528</td>\n",
       "      <td>1/7025800</td>\n",
       "      <td>11126</td>\n",
       "      <td>13373</td>\n",
       "      <td>11879</td>\n",
       "      <td>9297</td>\n",
       "      <td>9057</td>\n",
       "      <td>8419</td>\n",
       "      <td>8189</td>\n",
       "      <td>1.7025800</td>\n",
       "    </tr>\n",
       "    <tr>\n",
       "      <th>...</th>\n",
       "      <td>...</td>\n",
       "      <td>...</td>\n",
       "      <td>...</td>\n",
       "      <td>...</td>\n",
       "      <td>...</td>\n",
       "      <td>...</td>\n",
       "      <td>...</td>\n",
       "      <td>...</td>\n",
       "      <td>...</td>\n",
       "      <td>...</td>\n",
       "      <td>...</td>\n",
       "      <td>...</td>\n",
       "    </tr>\n",
       "    <tr>\n",
       "      <th>10588</th>\n",
       "      <td>10588</td>\n",
       "      <td>10589</td>\n",
       "      <td>10922</td>\n",
       "      <td>2/8963799</td>\n",
       "      <td>10115</td>\n",
       "      <td>12283</td>\n",
       "      <td>13955</td>\n",
       "      <td>8788</td>\n",
       "      <td>8858</td>\n",
       "      <td>7932</td>\n",
       "      <td>7616</td>\n",
       "      <td>2.8963799</td>\n",
       "    </tr>\n",
       "    <tr>\n",
       "      <th>8195</th>\n",
       "      <td>8195</td>\n",
       "      <td>8196</td>\n",
       "      <td>8529</td>\n",
       "      <td>5/1455002</td>\n",
       "      <td>9129</td>\n",
       "      <td>10963</td>\n",
       "      <td>12860</td>\n",
       "      <td>8334</td>\n",
       "      <td>8617</td>\n",
       "      <td>7928</td>\n",
       "      <td>7755</td>\n",
       "      <td>5.1455002</td>\n",
       "    </tr>\n",
       "    <tr>\n",
       "      <th>2597</th>\n",
       "      <td>2597</td>\n",
       "      <td>2598</td>\n",
       "      <td>2931</td>\n",
       "      <td>1/1395400</td>\n",
       "      <td>9334</td>\n",
       "      <td>11179</td>\n",
       "      <td>13101</td>\n",
       "      <td>8526</td>\n",
       "      <td>8788</td>\n",
       "      <td>8089</td>\n",
       "      <td>7896</td>\n",
       "      <td>1.1395400</td>\n",
       "    </tr>\n",
       "    <tr>\n",
       "      <th>11564</th>\n",
       "      <td>11564</td>\n",
       "      <td>11565</td>\n",
       "      <td>11898</td>\n",
       "      <td>3/0015800</td>\n",
       "      <td>8696</td>\n",
       "      <td>10079</td>\n",
       "      <td>12074</td>\n",
       "      <td>8064</td>\n",
       "      <td>8332</td>\n",
       "      <td>7780</td>\n",
       "      <td>7681</td>\n",
       "      <td>3.0015800</td>\n",
       "    </tr>\n",
       "    <tr>\n",
       "      <th>10042</th>\n",
       "      <td>10042</td>\n",
       "      <td>10043</td>\n",
       "      <td>10376</td>\n",
       "      <td>1/9378700</td>\n",
       "      <td>9775</td>\n",
       "      <td>11517</td>\n",
       "      <td>11900</td>\n",
       "      <td>8643</td>\n",
       "      <td>8724</td>\n",
       "      <td>8257</td>\n",
       "      <td>8108</td>\n",
       "      <td>1.9378700</td>\n",
       "    </tr>\n",
       "  </tbody>\n",
       "</table>\n",
       "<p>5000 rows × 12 columns</p>\n",
       "</div>"
      ],
      "text/plain": [
       "         FID  OBJECTID  pointid  grid_code  b1_Landsat  b2_Landsat  \\\n",
       "6203    6203      6204     6537  2/1304600        9778       11813   \n",
       "8451    8451      8452     8785  5/1101999       11758       15041   \n",
       "1392    1392      1393     1726  1/4538900       10973       13302   \n",
       "1786    1786      1787     2120  2/5613000       11339       13778   \n",
       "9194    9194      9195     9528  1/7025800       11126       13373   \n",
       "...      ...       ...      ...        ...         ...         ...   \n",
       "10588  10588     10589    10922  2/8963799       10115       12283   \n",
       "8195    8195      8196     8529  5/1455002        9129       10963   \n",
       "2597    2597      2598     2931  1/1395400        9334       11179   \n",
       "11564  11564     11565    11898  3/0015800        8696       10079   \n",
       "10042  10042     10043    10376  1/9378700        9775       11517   \n",
       "\n",
       "       b3_Landsat  b4_Landsat  b5_Landsat  b6_Landsat  b7_Landsat post_fire_  \n",
       "6203        12860        8560        8718        8195        8111  2.1304600  \n",
       "8451        14109        9137        9208        8527        8434  5.1101999  \n",
       "1392        14336        9395        9347        8481        8166  1.4538900  \n",
       "1786        13108        9268        9221        8583        8393  2.5613000  \n",
       "9194        11879        9297        9057        8419        8189  1.7025800  \n",
       "...           ...         ...         ...         ...         ...        ...  \n",
       "10588       13955        8788        8858        7932        7616  2.8963799  \n",
       "8195        12860        8334        8617        7928        7755  5.1455002  \n",
       "2597        13101        8526        8788        8089        7896  1.1395400  \n",
       "11564       12074        8064        8332        7780        7681  3.0015800  \n",
       "10042       11900        8643        8724        8257        8108  1.9378700  \n",
       "\n",
       "[5000 rows x 12 columns]"
      ]
     },
     "execution_count": 161,
     "metadata": {},
     "output_type": "execute_result"
    }
   ],
   "source": [
    "random_data = data.sample(n = 5000)\n",
    "random_data"
   ]
  },
  {
   "attachments": {},
   "cell_type": "markdown",
   "metadata": {},
   "source": [
    "**Checking for missing data.**"
   ]
  },
  {
   "cell_type": "code",
   "execution_count": 162,
   "metadata": {},
   "outputs": [
    {
     "data": {
      "text/plain": [
       "FID           0\n",
       "OBJECTID      0\n",
       "pointid       0\n",
       "grid_code     0\n",
       "b1_Landsat    0\n",
       "b2_Landsat    0\n",
       "b3_Landsat    0\n",
       "b4_Landsat    0\n",
       "b5_Landsat    0\n",
       "b6_Landsat    0\n",
       "b7_Landsat    0\n",
       "post_fire_    0\n",
       "dtype: int64"
      ]
     },
     "execution_count": 162,
     "metadata": {},
     "output_type": "execute_result"
    }
   ],
   "source": [
    "null = random_data.isnull().sum()\n",
    "null"
   ]
  },
  {
   "attachments": {},
   "cell_type": "markdown",
   "metadata": {},
   "source": [
    "**Forming Feature & Labele data frames.**"
   ]
  },
  {
   "cell_type": "code",
   "execution_count": 163,
   "metadata": {},
   "outputs": [
    {
     "data": {
      "text/plain": [
       "((5000, 7),\n",
       "        b1_Landsat  b2_Landsat  b3_Landsat  b4_Landsat  b5_Landsat  b6_Landsat  \\\n",
       " 6203         9778       11813       12860        8560        8718        8195   \n",
       " 8451        11758       15041       14109        9137        9208        8527   \n",
       " 1392        10973       13302       14336        9395        9347        8481   \n",
       " 1786        11339       13778       13108        9268        9221        8583   \n",
       " 9194        11126       13373       11879        9297        9057        8419   \n",
       " ...           ...         ...         ...         ...         ...         ...   \n",
       " 10588       10115       12283       13955        8788        8858        7932   \n",
       " 8195         9129       10963       12860        8334        8617        7928   \n",
       " 2597         9334       11179       13101        8526        8788        8089   \n",
       " 11564        8696       10079       12074        8064        8332        7780   \n",
       " 10042        9775       11517       11900        8643        8724        8257   \n",
       " \n",
       "        b7_Landsat  \n",
       " 6203         8111  \n",
       " 8451         8434  \n",
       " 1392         8166  \n",
       " 1786         8393  \n",
       " 9194         8189  \n",
       " ...           ...  \n",
       " 10588        7616  \n",
       " 8195         7755  \n",
       " 2597         7896  \n",
       " 11564        7681  \n",
       " 10042        8108  \n",
       " \n",
       " [5000 rows x 7 columns],\n",
       " (5000, 1),\n",
       "       post_fire_\n",
       " 6203   2.1304600\n",
       " 8451   5.1101999\n",
       " 1392   1.4538900\n",
       " 1786   2.5613000\n",
       " 9194   1.7025800\n",
       " ...          ...\n",
       " 10588  2.8963799\n",
       " 8195   5.1455002\n",
       " 2597   1.1395400\n",
       " 11564  3.0015800\n",
       " 10042  1.9378700\n",
       " \n",
       " [5000 rows x 1 columns])"
      ]
     },
     "execution_count": 163,
     "metadata": {},
     "output_type": "execute_result"
    }
   ],
   "source": [
    "feature_columns = ['b1_Landsat', 'b2_Landsat', 'b3_Landsat', 'b4_Landsat','b5_Landsat', 'b6_Landsat', 'b7_Landsat']\n",
    "features = random_data[feature_columns]\n",
    "\n",
    "label_columns = ['post_fire_']\n",
    "labels = random_data[label_columns]\n",
    "\n",
    "features.shape , features , labels.shape , labels "
   ]
  },
  {
   "attachments": {},
   "cell_type": "markdown",
   "metadata": {},
   "source": [
    "**Adding NDVI**"
   ]
  },
  {
   "cell_type": "code",
   "execution_count": 164,
   "metadata": {},
   "outputs": [
    {
     "name": "stderr",
     "output_type": "stream",
     "text": [
      "C:\\Users\\user\\AppData\\Local\\Temp\\ipykernel_8932\\328833445.py:2: SettingWithCopyWarning: \n",
      "A value is trying to be set on a copy of a slice from a DataFrame.\n",
      "Try using .loc[row_indexer,col_indexer] = value instead\n",
      "\n",
      "See the caveats in the documentation: https://pandas.pydata.org/pandas-docs/stable/user_guide/indexing.html#returning-a-view-versus-a-copy\n",
      "  features['NDVI'] = NDVI\n"
     ]
    },
    {
     "data": {
      "text/html": [
       "<div>\n",
       "<style scoped>\n",
       "    .dataframe tbody tr th:only-of-type {\n",
       "        vertical-align: middle;\n",
       "    }\n",
       "\n",
       "    .dataframe tbody tr th {\n",
       "        vertical-align: top;\n",
       "    }\n",
       "\n",
       "    .dataframe thead th {\n",
       "        text-align: right;\n",
       "    }\n",
       "</style>\n",
       "<table border=\"1\" class=\"dataframe\">\n",
       "  <thead>\n",
       "    <tr style=\"text-align: right;\">\n",
       "      <th></th>\n",
       "      <th>b1_Landsat</th>\n",
       "      <th>b2_Landsat</th>\n",
       "      <th>b3_Landsat</th>\n",
       "      <th>b4_Landsat</th>\n",
       "      <th>b5_Landsat</th>\n",
       "      <th>b6_Landsat</th>\n",
       "      <th>b7_Landsat</th>\n",
       "      <th>NDVI</th>\n",
       "    </tr>\n",
       "  </thead>\n",
       "  <tbody>\n",
       "    <tr>\n",
       "      <th>6203</th>\n",
       "      <td>9778</td>\n",
       "      <td>11813</td>\n",
       "      <td>12860</td>\n",
       "      <td>8560</td>\n",
       "      <td>8718</td>\n",
       "      <td>8195</td>\n",
       "      <td>8111</td>\n",
       "      <td>0.009145</td>\n",
       "    </tr>\n",
       "    <tr>\n",
       "      <th>8451</th>\n",
       "      <td>11758</td>\n",
       "      <td>15041</td>\n",
       "      <td>14109</td>\n",
       "      <td>9137</td>\n",
       "      <td>9208</td>\n",
       "      <td>8527</td>\n",
       "      <td>8434</td>\n",
       "      <td>0.003870</td>\n",
       "    </tr>\n",
       "    <tr>\n",
       "      <th>1392</th>\n",
       "      <td>10973</td>\n",
       "      <td>13302</td>\n",
       "      <td>14336</td>\n",
       "      <td>9395</td>\n",
       "      <td>9347</td>\n",
       "      <td>8481</td>\n",
       "      <td>8166</td>\n",
       "      <td>-0.002561</td>\n",
       "    </tr>\n",
       "    <tr>\n",
       "      <th>1786</th>\n",
       "      <td>11339</td>\n",
       "      <td>13778</td>\n",
       "      <td>13108</td>\n",
       "      <td>9268</td>\n",
       "      <td>9221</td>\n",
       "      <td>8583</td>\n",
       "      <td>8393</td>\n",
       "      <td>-0.002542</td>\n",
       "    </tr>\n",
       "    <tr>\n",
       "      <th>9194</th>\n",
       "      <td>11126</td>\n",
       "      <td>13373</td>\n",
       "      <td>11879</td>\n",
       "      <td>9297</td>\n",
       "      <td>9057</td>\n",
       "      <td>8419</td>\n",
       "      <td>8189</td>\n",
       "      <td>-0.013076</td>\n",
       "    </tr>\n",
       "    <tr>\n",
       "      <th>...</th>\n",
       "      <td>...</td>\n",
       "      <td>...</td>\n",
       "      <td>...</td>\n",
       "      <td>...</td>\n",
       "      <td>...</td>\n",
       "      <td>...</td>\n",
       "      <td>...</td>\n",
       "      <td>...</td>\n",
       "    </tr>\n",
       "    <tr>\n",
       "      <th>10588</th>\n",
       "      <td>10115</td>\n",
       "      <td>12283</td>\n",
       "      <td>13955</td>\n",
       "      <td>8788</td>\n",
       "      <td>8858</td>\n",
       "      <td>7932</td>\n",
       "      <td>7616</td>\n",
       "      <td>0.003967</td>\n",
       "    </tr>\n",
       "    <tr>\n",
       "      <th>8195</th>\n",
       "      <td>9129</td>\n",
       "      <td>10963</td>\n",
       "      <td>12860</td>\n",
       "      <td>8334</td>\n",
       "      <td>8617</td>\n",
       "      <td>7928</td>\n",
       "      <td>7755</td>\n",
       "      <td>0.016695</td>\n",
       "    </tr>\n",
       "    <tr>\n",
       "      <th>2597</th>\n",
       "      <td>9334</td>\n",
       "      <td>11179</td>\n",
       "      <td>13101</td>\n",
       "      <td>8526</td>\n",
       "      <td>8788</td>\n",
       "      <td>8089</td>\n",
       "      <td>7896</td>\n",
       "      <td>0.015132</td>\n",
       "    </tr>\n",
       "    <tr>\n",
       "      <th>11564</th>\n",
       "      <td>8696</td>\n",
       "      <td>10079</td>\n",
       "      <td>12074</td>\n",
       "      <td>8064</td>\n",
       "      <td>8332</td>\n",
       "      <td>7780</td>\n",
       "      <td>7681</td>\n",
       "      <td>0.016345</td>\n",
       "    </tr>\n",
       "    <tr>\n",
       "      <th>10042</th>\n",
       "      <td>9775</td>\n",
       "      <td>11517</td>\n",
       "      <td>11900</td>\n",
       "      <td>8643</td>\n",
       "      <td>8724</td>\n",
       "      <td>8257</td>\n",
       "      <td>8108</td>\n",
       "      <td>0.004664</td>\n",
       "    </tr>\n",
       "  </tbody>\n",
       "</table>\n",
       "<p>5000 rows × 8 columns</p>\n",
       "</div>"
      ],
      "text/plain": [
       "       b1_Landsat  b2_Landsat  b3_Landsat  b4_Landsat  b5_Landsat  b6_Landsat  \\\n",
       "6203         9778       11813       12860        8560        8718        8195   \n",
       "8451        11758       15041       14109        9137        9208        8527   \n",
       "1392        10973       13302       14336        9395        9347        8481   \n",
       "1786        11339       13778       13108        9268        9221        8583   \n",
       "9194        11126       13373       11879        9297        9057        8419   \n",
       "...           ...         ...         ...         ...         ...         ...   \n",
       "10588       10115       12283       13955        8788        8858        7932   \n",
       "8195         9129       10963       12860        8334        8617        7928   \n",
       "2597         9334       11179       13101        8526        8788        8089   \n",
       "11564        8696       10079       12074        8064        8332        7780   \n",
       "10042        9775       11517       11900        8643        8724        8257   \n",
       "\n",
       "       b7_Landsat      NDVI  \n",
       "6203         8111  0.009145  \n",
       "8451         8434  0.003870  \n",
       "1392         8166 -0.002561  \n",
       "1786         8393 -0.002542  \n",
       "9194         8189 -0.013076  \n",
       "...           ...       ...  \n",
       "10588        7616  0.003967  \n",
       "8195         7755  0.016695  \n",
       "2597         7896  0.015132  \n",
       "11564        7681  0.016345  \n",
       "10042        8108  0.004664  \n",
       "\n",
       "[5000 rows x 8 columns]"
      ]
     },
     "execution_count": 164,
     "metadata": {},
     "output_type": "execute_result"
    }
   ],
   "source": [
    "NDVI = ((features['b5_Landsat']-features['b4_Landsat'])/(features['b5_Landsat'] + features['b4_Landsat'] ))\n",
    "features['NDVI'] = NDVI\n",
    "features"
   ]
  },
  {
   "attachments": {},
   "cell_type": "markdown",
   "metadata": {},
   "source": [
    "**Adding EVI**"
   ]
  },
  {
   "cell_type": "code",
   "execution_count": 165,
   "metadata": {},
   "outputs": [
    {
     "name": "stderr",
     "output_type": "stream",
     "text": [
      "C:\\Users\\user\\AppData\\Local\\Temp\\ipykernel_8932\\1884314491.py:2: SettingWithCopyWarning: \n",
      "A value is trying to be set on a copy of a slice from a DataFrame.\n",
      "Try using .loc[row_indexer,col_indexer] = value instead\n",
      "\n",
      "See the caveats in the documentation: https://pandas.pydata.org/pandas-docs/stable/user_guide/indexing.html#returning-a-view-versus-a-copy\n",
      "  features['EVI'] = EVI\n"
     ]
    },
    {
     "data": {
      "text/html": [
       "<div>\n",
       "<style scoped>\n",
       "    .dataframe tbody tr th:only-of-type {\n",
       "        vertical-align: middle;\n",
       "    }\n",
       "\n",
       "    .dataframe tbody tr th {\n",
       "        vertical-align: top;\n",
       "    }\n",
       "\n",
       "    .dataframe thead th {\n",
       "        text-align: right;\n",
       "    }\n",
       "</style>\n",
       "<table border=\"1\" class=\"dataframe\">\n",
       "  <thead>\n",
       "    <tr style=\"text-align: right;\">\n",
       "      <th></th>\n",
       "      <th>b1_Landsat</th>\n",
       "      <th>b2_Landsat</th>\n",
       "      <th>b3_Landsat</th>\n",
       "      <th>b4_Landsat</th>\n",
       "      <th>b5_Landsat</th>\n",
       "      <th>b6_Landsat</th>\n",
       "      <th>b7_Landsat</th>\n",
       "      <th>NDVI</th>\n",
       "      <th>EVI</th>\n",
       "    </tr>\n",
       "  </thead>\n",
       "  <tbody>\n",
       "    <tr>\n",
       "      <th>6203</th>\n",
       "      <td>9778</td>\n",
       "      <td>11813</td>\n",
       "      <td>12860</td>\n",
       "      <td>8560</td>\n",
       "      <td>8718</td>\n",
       "      <td>8195</td>\n",
       "      <td>8111</td>\n",
       "      <td>0.009145</td>\n",
       "      <td>-0.347166</td>\n",
       "    </tr>\n",
       "    <tr>\n",
       "      <th>8451</th>\n",
       "      <td>11758</td>\n",
       "      <td>15041</td>\n",
       "      <td>14109</td>\n",
       "      <td>9137</td>\n",
       "      <td>9208</td>\n",
       "      <td>8527</td>\n",
       "      <td>8434</td>\n",
       "      <td>0.003870</td>\n",
       "      <td>-0.886749</td>\n",
       "    </tr>\n",
       "    <tr>\n",
       "      <th>1392</th>\n",
       "      <td>10973</td>\n",
       "      <td>13302</td>\n",
       "      <td>14336</td>\n",
       "      <td>9395</td>\n",
       "      <td>9347</td>\n",
       "      <td>8481</td>\n",
       "      <td>8166</td>\n",
       "      <td>-0.002561</td>\n",
       "      <td>-0.376759</td>\n",
       "    </tr>\n",
       "    <tr>\n",
       "      <th>1786</th>\n",
       "      <td>11339</td>\n",
       "      <td>13778</td>\n",
       "      <td>13108</td>\n",
       "      <td>9268</td>\n",
       "      <td>9221</td>\n",
       "      <td>8583</td>\n",
       "      <td>8393</td>\n",
       "      <td>-0.002542</td>\n",
       "      <td>-1.335885</td>\n",
       "    </tr>\n",
       "    <tr>\n",
       "      <th>9194</th>\n",
       "      <td>11126</td>\n",
       "      <td>13373</td>\n",
       "      <td>11879</td>\n",
       "      <td>9297</td>\n",
       "      <td>9057</td>\n",
       "      <td>8419</td>\n",
       "      <td>8189</td>\n",
       "      <td>-0.013076</td>\n",
       "      <td>0.898712</td>\n",
       "    </tr>\n",
       "    <tr>\n",
       "      <th>...</th>\n",
       "      <td>...</td>\n",
       "      <td>...</td>\n",
       "      <td>...</td>\n",
       "      <td>...</td>\n",
       "      <td>...</td>\n",
       "      <td>...</td>\n",
       "      <td>...</td>\n",
       "      <td>...</td>\n",
       "      <td>...</td>\n",
       "    </tr>\n",
       "    <tr>\n",
       "      <th>10588</th>\n",
       "      <td>10115</td>\n",
       "      <td>12283</td>\n",
       "      <td>13955</td>\n",
       "      <td>8788</td>\n",
       "      <td>8858</td>\n",
       "      <td>7932</td>\n",
       "      <td>7616</td>\n",
       "      <td>0.003967</td>\n",
       "      <td>-0.310209</td>\n",
       "    </tr>\n",
       "    <tr>\n",
       "      <th>8195</th>\n",
       "      <td>9129</td>\n",
       "      <td>10963</td>\n",
       "      <td>12860</td>\n",
       "      <td>8334</td>\n",
       "      <td>8617</td>\n",
       "      <td>7928</td>\n",
       "      <td>7755</td>\n",
       "      <td>0.016695</td>\n",
       "      <td>-0.265805</td>\n",
       "    </tr>\n",
       "    <tr>\n",
       "      <th>2597</th>\n",
       "      <td>9334</td>\n",
       "      <td>11179</td>\n",
       "      <td>13101</td>\n",
       "      <td>8526</td>\n",
       "      <td>8788</td>\n",
       "      <td>8089</td>\n",
       "      <td>7896</td>\n",
       "      <td>0.015132</td>\n",
       "      <td>-0.267106</td>\n",
       "    </tr>\n",
       "    <tr>\n",
       "      <th>11564</th>\n",
       "      <td>8696</td>\n",
       "      <td>10079</td>\n",
       "      <td>12074</td>\n",
       "      <td>8064</td>\n",
       "      <td>8332</td>\n",
       "      <td>7780</td>\n",
       "      <td>7681</td>\n",
       "      <td>0.016345</td>\n",
       "      <td>-0.262280</td>\n",
       "    </tr>\n",
       "    <tr>\n",
       "      <th>10042</th>\n",
       "      <td>9775</td>\n",
       "      <td>11517</td>\n",
       "      <td>11900</td>\n",
       "      <td>8643</td>\n",
       "      <td>8724</td>\n",
       "      <td>8257</td>\n",
       "      <td>8108</td>\n",
       "      <td>0.004664</td>\n",
       "      <td>-0.483845</td>\n",
       "    </tr>\n",
       "  </tbody>\n",
       "</table>\n",
       "<p>5000 rows × 9 columns</p>\n",
       "</div>"
      ],
      "text/plain": [
       "       b1_Landsat  b2_Landsat  b3_Landsat  b4_Landsat  b5_Landsat  b6_Landsat  \\\n",
       "6203         9778       11813       12860        8560        8718        8195   \n",
       "8451        11758       15041       14109        9137        9208        8527   \n",
       "1392        10973       13302       14336        9395        9347        8481   \n",
       "1786        11339       13778       13108        9268        9221        8583   \n",
       "9194        11126       13373       11879        9297        9057        8419   \n",
       "...           ...         ...         ...         ...         ...         ...   \n",
       "10588       10115       12283       13955        8788        8858        7932   \n",
       "8195         9129       10963       12860        8334        8617        7928   \n",
       "2597         9334       11179       13101        8526        8788        8089   \n",
       "11564        8696       10079       12074        8064        8332        7780   \n",
       "10042        9775       11517       11900        8643        8724        8257   \n",
       "\n",
       "       b7_Landsat      NDVI       EVI  \n",
       "6203         8111  0.009145 -0.347166  \n",
       "8451         8434  0.003870 -0.886749  \n",
       "1392         8166 -0.002561 -0.376759  \n",
       "1786         8393 -0.002542 -1.335885  \n",
       "9194         8189 -0.013076  0.898712  \n",
       "...           ...       ...       ...  \n",
       "10588        7616  0.003967 -0.310209  \n",
       "8195         7755  0.016695 -0.265805  \n",
       "2597         7896  0.015132 -0.267106  \n",
       "11564        7681  0.016345 -0.262280  \n",
       "10042        8108  0.004664 -0.483845  \n",
       "\n",
       "[5000 rows x 9 columns]"
      ]
     },
     "execution_count": 165,
     "metadata": {},
     "output_type": "execute_result"
    }
   ],
   "source": [
    "EVI = ((features['b4_Landsat']- features['b3_Landsat']) / (features['b4_Landsat'] + (6*features['b3_Landsat']) - (7.5 * features['b1_Landsat']) +1 ))\n",
    "features['EVI'] = EVI\n",
    "features"
   ]
  },
  {
   "attachments": {},
   "cell_type": "markdown",
   "metadata": {},
   "source": [
    "**Adding NDWI**"
   ]
  },
  {
   "cell_type": "code",
   "execution_count": 166,
   "metadata": {},
   "outputs": [
    {
     "name": "stderr",
     "output_type": "stream",
     "text": [
      "C:\\Users\\user\\AppData\\Local\\Temp\\ipykernel_8932\\4056754692.py:2: SettingWithCopyWarning: \n",
      "A value is trying to be set on a copy of a slice from a DataFrame.\n",
      "Try using .loc[row_indexer,col_indexer] = value instead\n",
      "\n",
      "See the caveats in the documentation: https://pandas.pydata.org/pandas-docs/stable/user_guide/indexing.html#returning-a-view-versus-a-copy\n",
      "  features['NDWI'] = NDWI\n"
     ]
    },
    {
     "data": {
      "text/html": [
       "<div>\n",
       "<style scoped>\n",
       "    .dataframe tbody tr th:only-of-type {\n",
       "        vertical-align: middle;\n",
       "    }\n",
       "\n",
       "    .dataframe tbody tr th {\n",
       "        vertical-align: top;\n",
       "    }\n",
       "\n",
       "    .dataframe thead th {\n",
       "        text-align: right;\n",
       "    }\n",
       "</style>\n",
       "<table border=\"1\" class=\"dataframe\">\n",
       "  <thead>\n",
       "    <tr style=\"text-align: right;\">\n",
       "      <th></th>\n",
       "      <th>b1_Landsat</th>\n",
       "      <th>b2_Landsat</th>\n",
       "      <th>b3_Landsat</th>\n",
       "      <th>b4_Landsat</th>\n",
       "      <th>b5_Landsat</th>\n",
       "      <th>b6_Landsat</th>\n",
       "      <th>b7_Landsat</th>\n",
       "      <th>NDVI</th>\n",
       "      <th>EVI</th>\n",
       "      <th>NDWI</th>\n",
       "    </tr>\n",
       "  </thead>\n",
       "  <tbody>\n",
       "    <tr>\n",
       "      <th>6203</th>\n",
       "      <td>9778</td>\n",
       "      <td>11813</td>\n",
       "      <td>12860</td>\n",
       "      <td>8560</td>\n",
       "      <td>8718</td>\n",
       "      <td>8195</td>\n",
       "      <td>8111</td>\n",
       "      <td>0.009145</td>\n",
       "      <td>-0.347166</td>\n",
       "      <td>-0.191955</td>\n",
       "    </tr>\n",
       "    <tr>\n",
       "      <th>8451</th>\n",
       "      <td>11758</td>\n",
       "      <td>15041</td>\n",
       "      <td>14109</td>\n",
       "      <td>9137</td>\n",
       "      <td>9208</td>\n",
       "      <td>8527</td>\n",
       "      <td>8434</td>\n",
       "      <td>0.003870</td>\n",
       "      <td>-0.886749</td>\n",
       "      <td>-0.210190</td>\n",
       "    </tr>\n",
       "    <tr>\n",
       "      <th>1392</th>\n",
       "      <td>10973</td>\n",
       "      <td>13302</td>\n",
       "      <td>14336</td>\n",
       "      <td>9395</td>\n",
       "      <td>9347</td>\n",
       "      <td>8481</td>\n",
       "      <td>8166</td>\n",
       "      <td>-0.002561</td>\n",
       "      <td>-0.376759</td>\n",
       "      <td>-0.210657</td>\n",
       "    </tr>\n",
       "    <tr>\n",
       "      <th>1786</th>\n",
       "      <td>11339</td>\n",
       "      <td>13778</td>\n",
       "      <td>13108</td>\n",
       "      <td>9268</td>\n",
       "      <td>9221</td>\n",
       "      <td>8583</td>\n",
       "      <td>8393</td>\n",
       "      <td>-0.002542</td>\n",
       "      <td>-1.335885</td>\n",
       "      <td>-0.174079</td>\n",
       "    </tr>\n",
       "    <tr>\n",
       "      <th>9194</th>\n",
       "      <td>11126</td>\n",
       "      <td>13373</td>\n",
       "      <td>11879</td>\n",
       "      <td>9297</td>\n",
       "      <td>9057</td>\n",
       "      <td>8419</td>\n",
       "      <td>8189</td>\n",
       "      <td>-0.013076</td>\n",
       "      <td>0.898712</td>\n",
       "      <td>-0.134792</td>\n",
       "    </tr>\n",
       "    <tr>\n",
       "      <th>...</th>\n",
       "      <td>...</td>\n",
       "      <td>...</td>\n",
       "      <td>...</td>\n",
       "      <td>...</td>\n",
       "      <td>...</td>\n",
       "      <td>...</td>\n",
       "      <td>...</td>\n",
       "      <td>...</td>\n",
       "      <td>...</td>\n",
       "      <td>...</td>\n",
       "    </tr>\n",
       "    <tr>\n",
       "      <th>10588</th>\n",
       "      <td>10115</td>\n",
       "      <td>12283</td>\n",
       "      <td>13955</td>\n",
       "      <td>8788</td>\n",
       "      <td>8858</td>\n",
       "      <td>7932</td>\n",
       "      <td>7616</td>\n",
       "      <td>0.003967</td>\n",
       "      <td>-0.310209</td>\n",
       "      <td>-0.223425</td>\n",
       "    </tr>\n",
       "    <tr>\n",
       "      <th>8195</th>\n",
       "      <td>9129</td>\n",
       "      <td>10963</td>\n",
       "      <td>12860</td>\n",
       "      <td>8334</td>\n",
       "      <td>8617</td>\n",
       "      <td>7928</td>\n",
       "      <td>7755</td>\n",
       "      <td>0.016695</td>\n",
       "      <td>-0.265805</td>\n",
       "      <td>-0.197560</td>\n",
       "    </tr>\n",
       "    <tr>\n",
       "      <th>2597</th>\n",
       "      <td>9334</td>\n",
       "      <td>11179</td>\n",
       "      <td>13101</td>\n",
       "      <td>8526</td>\n",
       "      <td>8788</td>\n",
       "      <td>8089</td>\n",
       "      <td>7896</td>\n",
       "      <td>0.015132</td>\n",
       "      <td>-0.267106</td>\n",
       "      <td>-0.197040</td>\n",
       "    </tr>\n",
       "    <tr>\n",
       "      <th>11564</th>\n",
       "      <td>8696</td>\n",
       "      <td>10079</td>\n",
       "      <td>12074</td>\n",
       "      <td>8064</td>\n",
       "      <td>8332</td>\n",
       "      <td>7780</td>\n",
       "      <td>7681</td>\n",
       "      <td>0.016345</td>\n",
       "      <td>-0.262280</td>\n",
       "      <td>-0.183377</td>\n",
       "    </tr>\n",
       "    <tr>\n",
       "      <th>10042</th>\n",
       "      <td>9775</td>\n",
       "      <td>11517</td>\n",
       "      <td>11900</td>\n",
       "      <td>8643</td>\n",
       "      <td>8724</td>\n",
       "      <td>8257</td>\n",
       "      <td>8108</td>\n",
       "      <td>0.004664</td>\n",
       "      <td>-0.483845</td>\n",
       "      <td>-0.153995</td>\n",
       "    </tr>\n",
       "  </tbody>\n",
       "</table>\n",
       "<p>5000 rows × 10 columns</p>\n",
       "</div>"
      ],
      "text/plain": [
       "       b1_Landsat  b2_Landsat  b3_Landsat  b4_Landsat  b5_Landsat  b6_Landsat  \\\n",
       "6203         9778       11813       12860        8560        8718        8195   \n",
       "8451        11758       15041       14109        9137        9208        8527   \n",
       "1392        10973       13302       14336        9395        9347        8481   \n",
       "1786        11339       13778       13108        9268        9221        8583   \n",
       "9194        11126       13373       11879        9297        9057        8419   \n",
       "...           ...         ...         ...         ...         ...         ...   \n",
       "10588       10115       12283       13955        8788        8858        7932   \n",
       "8195         9129       10963       12860        8334        8617        7928   \n",
       "2597         9334       11179       13101        8526        8788        8089   \n",
       "11564        8696       10079       12074        8064        8332        7780   \n",
       "10042        9775       11517       11900        8643        8724        8257   \n",
       "\n",
       "       b7_Landsat      NDVI       EVI      NDWI  \n",
       "6203         8111  0.009145 -0.347166 -0.191955  \n",
       "8451         8434  0.003870 -0.886749 -0.210190  \n",
       "1392         8166 -0.002561 -0.376759 -0.210657  \n",
       "1786         8393 -0.002542 -1.335885 -0.174079  \n",
       "9194         8189 -0.013076  0.898712 -0.134792  \n",
       "...           ...       ...       ...       ...  \n",
       "10588        7616  0.003967 -0.310209 -0.223425  \n",
       "8195         7755  0.016695 -0.265805 -0.197560  \n",
       "2597         7896  0.015132 -0.267106 -0.197040  \n",
       "11564        7681  0.016345 -0.262280 -0.183377  \n",
       "10042        8108  0.004664 -0.483845 -0.153995  \n",
       "\n",
       "[5000 rows x 10 columns]"
      ]
     },
     "execution_count": 166,
     "metadata": {},
     "output_type": "execute_result"
    }
   ],
   "source": [
    "NDWI  = ((features['b5_Landsat']-features['b3_Landsat'])/(features['b5_Landsat'] + features['b3_Landsat'] ))\n",
    "features['NDWI'] = NDWI\n",
    "features"
   ]
  },
  {
   "attachments": {},
   "cell_type": "markdown",
   "metadata": {},
   "source": [
    "**Normalization**"
   ]
  },
  {
   "cell_type": "code",
   "execution_count": 167,
   "metadata": {},
   "outputs": [
    {
     "data": {
      "text/plain": [
       "((5000, 10),\n",
       " array([[0.21886296, 0.28478376, 0.42273068, ..., 0.73669572, 0.8000752 ,\n",
       "         0.43653956],\n",
       "        [0.43575419, 0.52927365, 0.53985371, ..., 0.68190434, 0.7984171 ,\n",
       "         0.37763655],\n",
       "        [0.34976449, 0.39756116, 0.56114029, ..., 0.61509318, 0.79998427,\n",
       "         0.37612663],\n",
       "        ...,\n",
       "        [0.17022675, 0.23676437, 0.44533008, ..., 0.79889787, 0.80032122,\n",
       "         0.42011463],\n",
       "        [0.10033958, 0.15344997, 0.34902476, ..., 0.81150087, 0.80033605,\n",
       "         0.46424587],\n",
       "        [0.21853434, 0.26236461, 0.33270818, ..., 0.69015012, 0.7996552 ,\n",
       "         0.55915526]]),\n",
       " (5000, 1),\n",
       " array([[0.12791117],\n",
       "        [0.38345633],\n",
       "        [0.06988792],\n",
       "        ...,\n",
       "        [0.04292899],\n",
       "        [0.2026192 ],\n",
       "        [0.11139448]]))"
      ]
     },
     "execution_count": 167,
     "metadata": {},
     "output_type": "execute_result"
    }
   ],
   "source": [
    "from sklearn.preprocessing import MinMaxScaler\n",
    "scaler = MinMaxScaler()\n",
    "\n",
    "scaler.fit(features)\n",
    "X = scaler.transform(features)\n",
    "\n",
    "scaler.fit(labels)\n",
    "Y = scaler.transform(labels)\n",
    "\n",
    "X.shape, X , Y.shape , Y"
   ]
  },
  {
   "attachments": {},
   "cell_type": "markdown",
   "metadata": {},
   "source": [
    "**Test & Train data dedication**"
   ]
  },
  {
   "cell_type": "code",
   "execution_count": 183,
   "metadata": {},
   "outputs": [],
   "source": [
    "x_train=X[0:4000,:]\n",
    "y_train=Y[0:4000]\n",
    "\n",
    "x_test=X[4000:,:]\n",
    "y_test=Y[4000:]"
   ]
  },
  {
   "cell_type": "code",
   "execution_count": 186,
   "metadata": {},
   "outputs": [
    {
     "data": {
      "text/plain": [
       "(1000, 1)"
      ]
     },
     "execution_count": 186,
     "metadata": {},
     "output_type": "execute_result"
    }
   ],
   "source": [
    "y_test.shape"
   ]
  },
  {
   "attachments": {},
   "cell_type": "markdown",
   "metadata": {},
   "source": [
    "**Decission Tree model training**"
   ]
  },
  {
   "cell_type": "code",
   "execution_count": 189,
   "metadata": {},
   "outputs": [],
   "source": [
    "from sklearn import tree\n",
    "clf = tree.DecisionTreeRegressor()\n",
    "model= clf.fit(x_train,y_train)"
   ]
  },
  {
   "attachments": {},
   "cell_type": "markdown",
   "metadata": {},
   "source": [
    "**Predicition**"
   ]
  },
  {
   "cell_type": "code",
   "execution_count": 209,
   "metadata": {},
   "outputs": [],
   "source": [
    "y_pred = model.predict(x_test)\n"
   ]
  },
  {
   "attachments": {},
   "cell_type": "markdown",
   "metadata": {},
   "source": [
    "**MSE for Decission Tree**"
   ]
  },
  {
   "cell_type": "code",
   "execution_count": 192,
   "metadata": {},
   "outputs": [
    {
     "data": {
      "text/plain": [
       "0.052957104164716516"
      ]
     },
     "execution_count": 192,
     "metadata": {},
     "output_type": "execute_result"
    }
   ],
   "source": [
    "from sklearn.metrics import mean_squared_error \n",
    "mean_squared_error(y_test,y_pred)"
   ]
  },
  {
   "attachments": {},
   "cell_type": "markdown",
   "metadata": {},
   "source": [
    "**MAE for Decission Tree**"
   ]
  },
  {
   "cell_type": "code",
   "execution_count": 193,
   "metadata": {},
   "outputs": [
    {
     "data": {
      "text/plain": [
       "0.1670473837172754"
      ]
     },
     "execution_count": 193,
     "metadata": {},
     "output_type": "execute_result"
    }
   ],
   "source": [
    "from sklearn.metrics import mean_absolute_error\n",
    "mean_absolute_error(y_test , y_pred)"
   ]
  },
  {
   "attachments": {},
   "cell_type": "markdown",
   "metadata": {},
   "source": [
    "**R2_Score for Decission Tree**"
   ]
  },
  {
   "cell_type": "code",
   "execution_count": 194,
   "metadata": {},
   "outputs": [
    {
     "data": {
      "text/plain": [
       "-0.7096868988131375"
      ]
     },
     "execution_count": 194,
     "metadata": {},
     "output_type": "execute_result"
    }
   ],
   "source": [
    "from sklearn.metrics import r2_score\n",
    "r2_score(y_test , y_pred)"
   ]
  },
  {
   "attachments": {},
   "cell_type": "markdown",
   "metadata": {},
   "source": [
    "**Explained Variance Score for Decission Tree**"
   ]
  },
  {
   "cell_type": "code",
   "execution_count": 203,
   "metadata": {},
   "outputs": [
    {
     "data": {
      "text/plain": [
       "-0.708067032725161"
      ]
     },
     "execution_count": 203,
     "metadata": {},
     "output_type": "execute_result"
    }
   ],
   "source": [
    "from sklearn.metrics import explained_variance_score\n",
    "explained_variance_score(y_test, y_pred)"
   ]
  },
  {
   "attachments": {},
   "cell_type": "markdown",
   "metadata": {},
   "source": [
    "**Random Forest model training**"
   ]
  },
  {
   "cell_type": "code",
   "execution_count": 213,
   "metadata": {},
   "outputs": [
    {
     "name": "stderr",
     "output_type": "stream",
     "text": [
      "c:\\Users\\user\\AppData\\Local\\Programs\\Python\\Python311\\Lib\\site-packages\\sklearn\\base.py:1151: DataConversionWarning: A column-vector y was passed when a 1d array was expected. Please change the shape of y to (n_samples,), for example using ravel().\n",
      "  return fit_method(estimator, *args, **kwargs)\n"
     ]
    },
    {
     "data": {
      "text/html": [
       "<style>#sk-container-id-2 {color: black;}#sk-container-id-2 pre{padding: 0;}#sk-container-id-2 div.sk-toggleable {background-color: white;}#sk-container-id-2 label.sk-toggleable__label {cursor: pointer;display: block;width: 100%;margin-bottom: 0;padding: 0.3em;box-sizing: border-box;text-align: center;}#sk-container-id-2 label.sk-toggleable__label-arrow:before {content: \"▸\";float: left;margin-right: 0.25em;color: #696969;}#sk-container-id-2 label.sk-toggleable__label-arrow:hover:before {color: black;}#sk-container-id-2 div.sk-estimator:hover label.sk-toggleable__label-arrow:before {color: black;}#sk-container-id-2 div.sk-toggleable__content {max-height: 0;max-width: 0;overflow: hidden;text-align: left;background-color: #f0f8ff;}#sk-container-id-2 div.sk-toggleable__content pre {margin: 0.2em;color: black;border-radius: 0.25em;background-color: #f0f8ff;}#sk-container-id-2 input.sk-toggleable__control:checked~div.sk-toggleable__content {max-height: 200px;max-width: 100%;overflow: auto;}#sk-container-id-2 input.sk-toggleable__control:checked~label.sk-toggleable__label-arrow:before {content: \"▾\";}#sk-container-id-2 div.sk-estimator input.sk-toggleable__control:checked~label.sk-toggleable__label {background-color: #d4ebff;}#sk-container-id-2 div.sk-label input.sk-toggleable__control:checked~label.sk-toggleable__label {background-color: #d4ebff;}#sk-container-id-2 input.sk-hidden--visually {border: 0;clip: rect(1px 1px 1px 1px);clip: rect(1px, 1px, 1px, 1px);height: 1px;margin: -1px;overflow: hidden;padding: 0;position: absolute;width: 1px;}#sk-container-id-2 div.sk-estimator {font-family: monospace;background-color: #f0f8ff;border: 1px dotted black;border-radius: 0.25em;box-sizing: border-box;margin-bottom: 0.5em;}#sk-container-id-2 div.sk-estimator:hover {background-color: #d4ebff;}#sk-container-id-2 div.sk-parallel-item::after {content: \"\";width: 100%;border-bottom: 1px solid gray;flex-grow: 1;}#sk-container-id-2 div.sk-label:hover label.sk-toggleable__label {background-color: #d4ebff;}#sk-container-id-2 div.sk-serial::before {content: \"\";position: absolute;border-left: 1px solid gray;box-sizing: border-box;top: 0;bottom: 0;left: 50%;z-index: 0;}#sk-container-id-2 div.sk-serial {display: flex;flex-direction: column;align-items: center;background-color: white;padding-right: 0.2em;padding-left: 0.2em;position: relative;}#sk-container-id-2 div.sk-item {position: relative;z-index: 1;}#sk-container-id-2 div.sk-parallel {display: flex;align-items: stretch;justify-content: center;background-color: white;position: relative;}#sk-container-id-2 div.sk-item::before, #sk-container-id-2 div.sk-parallel-item::before {content: \"\";position: absolute;border-left: 1px solid gray;box-sizing: border-box;top: 0;bottom: 0;left: 50%;z-index: -1;}#sk-container-id-2 div.sk-parallel-item {display: flex;flex-direction: column;z-index: 1;position: relative;background-color: white;}#sk-container-id-2 div.sk-parallel-item:first-child::after {align-self: flex-end;width: 50%;}#sk-container-id-2 div.sk-parallel-item:last-child::after {align-self: flex-start;width: 50%;}#sk-container-id-2 div.sk-parallel-item:only-child::after {width: 0;}#sk-container-id-2 div.sk-dashed-wrapped {border: 1px dashed gray;margin: 0 0.4em 0.5em 0.4em;box-sizing: border-box;padding-bottom: 0.4em;background-color: white;}#sk-container-id-2 div.sk-label label {font-family: monospace;font-weight: bold;display: inline-block;line-height: 1.2em;}#sk-container-id-2 div.sk-label-container {text-align: center;}#sk-container-id-2 div.sk-container {/* jupyter's `normalize.less` sets `[hidden] { display: none; }` but bootstrap.min.css set `[hidden] { display: none !important; }` so we also need the `!important` here to be able to override the default hidden behavior on the sphinx rendered scikit-learn.org. See: https://github.com/scikit-learn/scikit-learn/issues/21755 */display: inline-block !important;position: relative;}#sk-container-id-2 div.sk-text-repr-fallback {display: none;}</style><div id=\"sk-container-id-2\" class=\"sk-top-container\"><div class=\"sk-text-repr-fallback\"><pre>RandomForestRegressor()</pre><b>In a Jupyter environment, please rerun this cell to show the HTML representation or trust the notebook. <br />On GitHub, the HTML representation is unable to render, please try loading this page with nbviewer.org.</b></div><div class=\"sk-container\" hidden><div class=\"sk-item\"><div class=\"sk-estimator sk-toggleable\"><input class=\"sk-toggleable__control sk-hidden--visually\" id=\"sk-estimator-id-2\" type=\"checkbox\" checked><label for=\"sk-estimator-id-2\" class=\"sk-toggleable__label sk-toggleable__label-arrow\">RandomForestRegressor</label><div class=\"sk-toggleable__content\"><pre>RandomForestRegressor()</pre></div></div></div></div></div>"
      ],
      "text/plain": [
       "RandomForestRegressor()"
      ]
     },
     "execution_count": 213,
     "metadata": {},
     "output_type": "execute_result"
    }
   ],
   "source": [
    "from sklearn.ensemble import RandomForestRegressor\n",
    "clf = RandomForestRegressor()\n",
    "clf.fit(x_train, y_train)"
   ]
  },
  {
   "attachments": {},
   "cell_type": "markdown",
   "metadata": {},
   "source": [
    "**Prediction**"
   ]
  },
  {
   "cell_type": "code",
   "execution_count": 214,
   "metadata": {},
   "outputs": [],
   "source": [
    "y_pred = model.predict(x_test)"
   ]
  },
  {
   "attachments": {},
   "cell_type": "markdown",
   "metadata": {},
   "source": [
    "**MSE for Random Forest**"
   ]
  },
  {
   "cell_type": "code",
   "execution_count": 215,
   "metadata": {},
   "outputs": [
    {
     "data": {
      "text/plain": [
       "0.052957104164716516"
      ]
     },
     "execution_count": 215,
     "metadata": {},
     "output_type": "execute_result"
    }
   ],
   "source": [
    "from sklearn.metrics import mean_squared_error \n",
    "mean_squared_error(y_test,y_pred)"
   ]
  },
  {
   "attachments": {},
   "cell_type": "markdown",
   "metadata": {},
   "source": [
    "**MAE for Random Forest**"
   ]
  },
  {
   "cell_type": "code",
   "execution_count": 216,
   "metadata": {},
   "outputs": [
    {
     "data": {
      "text/plain": [
       "0.1670473837172754"
      ]
     },
     "execution_count": 216,
     "metadata": {},
     "output_type": "execute_result"
    }
   ],
   "source": [
    "from sklearn.metrics import mean_absolute_error\n",
    "mean_absolute_error(y_test , y_pred)"
   ]
  },
  {
   "attachments": {},
   "cell_type": "markdown",
   "metadata": {},
   "source": [
    "**R2_Score for Random Forest**"
   ]
  },
  {
   "cell_type": "code",
   "execution_count": 217,
   "metadata": {},
   "outputs": [
    {
     "data": {
      "text/plain": [
       "-0.7096868988131375"
      ]
     },
     "execution_count": 217,
     "metadata": {},
     "output_type": "execute_result"
    }
   ],
   "source": [
    "from sklearn.metrics import r2_score\n",
    "r2_score(y_test , y_pred)"
   ]
  },
  {
   "attachments": {},
   "cell_type": "markdown",
   "metadata": {},
   "source": [
    "**Explained Variance Score for Random Forest**"
   ]
  },
  {
   "cell_type": "code",
   "execution_count": 218,
   "metadata": {},
   "outputs": [
    {
     "data": {
      "text/plain": [
       "-0.708067032725161"
      ]
     },
     "execution_count": 218,
     "metadata": {},
     "output_type": "execute_result"
    }
   ],
   "source": [
    "from sklearn.metrics import explained_variance_score\n",
    "explained_variance_score(y_test, y_pred)"
   ]
  },
  {
   "attachments": {},
   "cell_type": "markdown",
   "metadata": {},
   "source": [
    "**SVM model training**"
   ]
  },
  {
   "cell_type": "code",
   "execution_count": 221,
   "metadata": {},
   "outputs": [
    {
     "name": "stderr",
     "output_type": "stream",
     "text": [
      "c:\\Users\\user\\AppData\\Local\\Programs\\Python\\Python311\\Lib\\site-packages\\sklearn\\utils\\validation.py:1184: DataConversionWarning: A column-vector y was passed when a 1d array was expected. Please change the shape of y to (n_samples, ), for example using ravel().\n",
      "  y = column_or_1d(y, warn=True)\n"
     ]
    }
   ],
   "source": [
    "from sklearn.svm import SVR\n",
    "regressor = SVR()\n",
    "model = regressor.fit(x_train,y_train)"
   ]
  },
  {
   "attachments": {},
   "cell_type": "markdown",
   "metadata": {},
   "source": [
    "**Prediction**"
   ]
  },
  {
   "cell_type": "code",
   "execution_count": 222,
   "metadata": {},
   "outputs": [],
   "source": [
    "y_pred = model.predict(x_test)"
   ]
  },
  {
   "attachments": {},
   "cell_type": "markdown",
   "metadata": {},
   "source": [
    "**MSE for SVM**"
   ]
  },
  {
   "cell_type": "code",
   "execution_count": 223,
   "metadata": {},
   "outputs": [
    {
     "data": {
      "text/plain": [
       "0.023141212851988235"
      ]
     },
     "execution_count": 223,
     "metadata": {},
     "output_type": "execute_result"
    }
   ],
   "source": [
    "from sklearn.metrics import mean_squared_error \n",
    "mean_squared_error(y_test,y_pred)"
   ]
  },
  {
   "attachments": {},
   "cell_type": "markdown",
   "metadata": {},
   "source": [
    "**MAE for SVM**"
   ]
  },
  {
   "cell_type": "code",
   "execution_count": 224,
   "metadata": {},
   "outputs": [
    {
     "data": {
      "text/plain": [
       "0.11312888549536462"
      ]
     },
     "execution_count": 224,
     "metadata": {},
     "output_type": "execute_result"
    }
   ],
   "source": [
    "from sklearn.metrics import mean_absolute_error\n",
    "mean_absolute_error(y_test , y_pred)"
   ]
  },
  {
   "attachments": {},
   "cell_type": "markdown",
   "metadata": {},
   "source": [
    "**R2_Score for SVM**"
   ]
  },
  {
   "cell_type": "code",
   "execution_count": 225,
   "metadata": {},
   "outputs": [
    {
     "data": {
      "text/plain": [
       "0.2529004548165842"
      ]
     },
     "execution_count": 225,
     "metadata": {},
     "output_type": "execute_result"
    }
   ],
   "source": [
    "from sklearn.metrics import r2_score\n",
    "r2_score(y_test , y_pred)"
   ]
  },
  {
   "attachments": {},
   "cell_type": "markdown",
   "metadata": {},
   "source": [
    "**Explained Variance Score for SVM**"
   ]
  },
  {
   "cell_type": "code",
   "execution_count": 226,
   "metadata": {},
   "outputs": [
    {
     "data": {
      "text/plain": [
       "0.2580800678578272"
      ]
     },
     "execution_count": 226,
     "metadata": {},
     "output_type": "execute_result"
    }
   ],
   "source": [
    "from sklearn.metrics import explained_variance_score\n",
    "explained_variance_score(y_test, y_pred)"
   ]
  },
  {
   "attachments": {},
   "cell_type": "markdown",
   "metadata": {},
   "source": [
    "**Gradient Boosting model training**"
   ]
  },
  {
   "cell_type": "code",
   "execution_count": 229,
   "metadata": {},
   "outputs": [
    {
     "name": "stderr",
     "output_type": "stream",
     "text": [
      "c:\\Users\\user\\AppData\\Local\\Programs\\Python\\Python311\\Lib\\site-packages\\sklearn\\ensemble\\_gb.py:424: DataConversionWarning: A column-vector y was passed when a 1d array was expected. Please change the shape of y to (n_samples, ), for example using ravel().\n",
      "  y = column_or_1d(y, warn=True)\n"
     ]
    }
   ],
   "source": [
    "from sklearn.ensemble import GradientBoostingRegressor\n",
    "regressor = GradientBoostingRegressor()\n",
    "model = regressor.fit(x_train,y_train)"
   ]
  },
  {
   "attachments": {},
   "cell_type": "markdown",
   "metadata": {},
   "source": [
    "**Prediction**"
   ]
  },
  {
   "cell_type": "code",
   "execution_count": 230,
   "metadata": {},
   "outputs": [],
   "source": [
    "y_pred = model.predict(x_test)"
   ]
  },
  {
   "attachments": {},
   "cell_type": "markdown",
   "metadata": {},
   "source": [
    "**MSE for Gradient Boosting**"
   ]
  },
  {
   "cell_type": "code",
   "execution_count": 231,
   "metadata": {},
   "outputs": [
    {
     "data": {
      "text/plain": [
       "0.022500710731126455"
      ]
     },
     "execution_count": 231,
     "metadata": {},
     "output_type": "execute_result"
    }
   ],
   "source": [
    "from sklearn.metrics import mean_squared_error \n",
    "mean_squared_error(y_test,y_pred)"
   ]
  },
  {
   "attachments": {},
   "cell_type": "markdown",
   "metadata": {},
   "source": [
    "**MAE for Gradient Boosting**"
   ]
  },
  {
   "cell_type": "code",
   "execution_count": 232,
   "metadata": {},
   "outputs": [
    {
     "data": {
      "text/plain": [
       "0.11322764841203377"
      ]
     },
     "execution_count": 232,
     "metadata": {},
     "output_type": "execute_result"
    }
   ],
   "source": [
    "from sklearn.metrics import mean_absolute_error\n",
    "mean_absolute_error(y_test , y_pred)"
   ]
  },
  {
   "attachments": {},
   "cell_type": "markdown",
   "metadata": {},
   "source": [
    "**R2_Score for Gradient Bossting**"
   ]
  },
  {
   "cell_type": "code",
   "execution_count": 234,
   "metadata": {},
   "outputs": [
    {
     "data": {
      "text/plain": [
       "0.2735786641328144"
      ]
     },
     "execution_count": 234,
     "metadata": {},
     "output_type": "execute_result"
    }
   ],
   "source": [
    "from sklearn.metrics import r2_score\n",
    "r2_score(y_test , y_pred)"
   ]
  },
  {
   "attachments": {},
   "cell_type": "markdown",
   "metadata": {},
   "source": [
    "**Explained Variance Score for Gradient Boosting**"
   ]
  },
  {
   "cell_type": "code",
   "execution_count": 233,
   "metadata": {},
   "outputs": [
    {
     "data": {
      "text/plain": [
       "0.27360003857671533"
      ]
     },
     "execution_count": 233,
     "metadata": {},
     "output_type": "execute_result"
    }
   ],
   "source": [
    "from sklearn.metrics import explained_variance_score\n",
    "explained_variance_score(y_test, y_pred)"
   ]
  }
 ],
 "metadata": {
  "kernelspec": {
   "display_name": "Python 3",
   "language": "python",
   "name": "python3"
  },
  "language_info": {
   "codemirror_mode": {
    "name": "ipython",
    "version": 3
   },
   "file_extension": ".py",
   "mimetype": "text/x-python",
   "name": "python",
   "nbconvert_exporter": "python",
   "pygments_lexer": "ipython3",
   "version": "3.11.2 (tags/v3.11.2:878ead1, Feb  7 2023, 16:38:35) [MSC v.1934 64 bit (AMD64)]"
  },
  "orig_nbformat": 4,
  "vscode": {
   "interpreter": {
    "hash": "de47f5c92c0ee6f12a59a5613ac5feff6aab19ddff207ba0b3964cced08c4ccc"
   }
  }
 },
 "nbformat": 4,
 "nbformat_minor": 2
}
